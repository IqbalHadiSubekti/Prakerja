{
 "cells": [
  {
   "cell_type": "markdown",
   "id": "4f4259f4",
   "metadata": {},
   "source": [
    "# Pengambilan Data"
   ]
  },
  {
   "cell_type": "code",
   "execution_count": null,
   "id": "2db85fb9",
   "metadata": {},
   "outputs": [],
   "source": [
    "import tweepy\n",
    "import csv\n",
    "import pandas as pd\n",
    "import datetime"
   ]
  },
  {
   "cell_type": "code",
   "execution_count": null,
   "id": "dc577476",
   "metadata": {},
   "outputs": [],
   "source": [
    "consumer_key = 'IWUfRhxvE5GwixI8Lp0d2JGs0'\n",
    "consumer_secret = 'ACxzjt91JD4xWmfo0yKnXjMqY10RW4dPQs34QJv0Cfr5rgjMYM'\n",
    "access_token = '1318531052600635397-efAuRcwTU1brFFvaFo7Fksjcj7dcbL'\n",
    "access_token_secret = 'mPWKNo7sZRcPFKygFizOGNzkLou5Yr49O5GA5XYsyxgwl'"
   ]
  },
  {
   "cell_type": "code",
   "execution_count": null,
   "id": "ccbcae43",
   "metadata": {},
   "outputs": [],
   "source": [
    "auth = tweepy.OAuthHandler(consumer_key, consumer_secret)\n",
    "\n",
    "auth.set_access_token(access_token, access_token_secret)\n",
    "\n",
    "api = tweepy.API(auth)\n",
    "\n",
    "auth = tweepy.AppAuthHandler(consumer_key, consumer_secret)\n",
    "\n",
    "api = tweepy.API(auth, wait_on_rate_limit=True, wait_on_rate_limit_notify=True)\n",
    "\n",
    "if (not api):\n",
    "    print(\"Terjadi masalah dalam autentifikasi API\")\n",
    "searchQuery = 'kartu prakerja'\n",
    "\n",
    "maxTweets = 100\n",
    "\n",
    "tweetsPerQry = 10\n",
    "tweetCount = 0\n",
    "csvFile = open('hasil_5Agustus.csv','a')\n",
    "\n",
    "csvWriter = csv.writer(csvFile)\n",
    "\n",
    "for tweet in tweepy.Cursor(api.search, q=searchQuery, lang='id').items():\n",
    "        csvWriter.writerow([tweet.created_at, tweet.text.encode('utf-8')])\n",
    "csvFile.close()\n",
    "\n",
    "print(\"Download beberapa tweet\".format(tweetCount))"
   ]
  },
  {
   "cell_type": "markdown",
   "id": "5a5bbfba",
   "metadata": {},
   "source": [
    "# Preprocessing Data"
   ]
  },
  {
   "cell_type": "code",
   "execution_count": null,
   "id": "7852b651",
   "metadata": {},
   "outputs": [],
   "source": [
    "import numpy as np\n",
    "import pandas as pd\n",
    "from pandas import DataFrame\n",
    "import nltk, emoji, re, string\n",
    "from nltk.corpus import stopwords\n",
    "from nltk.tokenize import word_tokenize"
   ]
  },
  {
   "cell_type": "code",
   "execution_count": null,
   "id": "74b2c952",
   "metadata": {},
   "outputs": [],
   "source": [
    "data = pd.read_csv(\"hasil_21Juli.csv\",nrows=2000,names=['tanggal','tweet']).dropna()\n",
    "data.drop(['tanggal'], axis=1, inplace=True)\n",
    "\n",
    "data.head()"
   ]
  },
  {
   "cell_type": "code",
   "execution_count": null,
   "id": "93f3b865",
   "metadata": {},
   "outputs": [],
   "source": [
    "def url_remove(text):\n",
    "    t = re.sub(r'https://\\S+','',text)\n",
    "    return t\n",
    "\n",
    "def punc_remove(text):\n",
    "    t = re.sub(r'[^\\w\\s]','',text)\n",
    "    return t\n",
    "\n",
    "def number_remove(text):\n",
    "    t = re.sub(r\"\\d+\", \"\", text)\n",
    "    return t\n",
    "\n",
    "def regex_remove(text):\n",
    "    reg = \"b'\" \n",
    "    return re.sub(reg, \" \", text)\n",
    "\n",
    "def emoji_remove(text):\n",
    "    return emoji.get_emoji_regexp().sub(\"\", text).strip()\n",
    "\n",
    "def hashtag_remove(text):\n",
    "    reg = \"#(\\w+)\"\n",
    "    return re.sub(reg, \" \", text)\n",
    "\n",
    "cleaned = []\n",
    "\n",
    "def clean_text(text):\n",
    "    for i in text:\n",
    "        cleaned.append(emoji_remove(punc_remove(number_remove(regex_remove(hashtag_remove(url_remove(\n",
    "            re.sub(\"[\\n\\r\\t\\xa0]\",\" \",i).strip())))))))\n",
    "clean_text(data[\"tweet\"])"
   ]
  },
  {
   "cell_type": "code",
   "execution_count": null,
   "id": "01e3cdd1",
   "metadata": {},
   "outputs": [],
   "source": [
    "data['text'] = cleaned\n",
    "\n",
    "data.head()"
   ]
  },
  {
   "cell_type": "code",
   "execution_count": null,
   "id": "14238986",
   "metadata": {},
   "outputs": [],
   "source": [
    "def lowercase():\n",
    "    lower_word = data['text'].str.lower()\n",
    "    return lower_word\n",
    "\n",
    "lower_tweet = lowercase()\n",
    "\n",
    "print(lower_tweet)"
   ]
  },
  {
   "cell_type": "code",
   "execution_count": null,
   "id": "b30de8b8",
   "metadata": {},
   "outputs": [],
   "source": [
    "from Sastrawi.StopWordRemover.StopWordRemoverFactory import StopWordRemoverFactory\n",
    "\n",
    "factory = StopWordRemoverFactory()\n",
    "more_stopword = ['rt', 'anjing','anjir','pantek']\n",
    "stopword = factory.create_stop_word_remover()\n",
    "stopwords = factory.get_stop_words()+more_stopword\n",
    "print(stopwords)"
   ]
  },
  {
   "cell_type": "code",
   "execution_count": null,
   "id": "fa098a46",
   "metadata": {},
   "outputs": [],
   "source": [
    "def removeStopWords(text):\n",
    "    clean_word_list = [word for word in text.split() if word not in stopwords]\n",
    "    return clean_word_list\n",
    "\n",
    "stopwords_tweet = lower_tweet.apply(removeStopWords)\n",
    "\n",
    "print(stopwords_tweet)"
   ]
  },
  {
   "cell_type": "code",
   "execution_count": null,
   "id": "7220a0b6",
   "metadata": {},
   "outputs": [],
   "source": [
    "from Sastrawi.Stemmer.StemmerFactory import StemmerFactory\n",
    "\n",
    "factory = StemmerFactory()\n",
    "stemmer = factory.create_stemmer()\n",
    "\n",
    "def stemmed_wrapper(term):\n",
    "    return stemmer.stem(term)\n",
    "\n",
    "term_dict = {}\n",
    "\n",
    "for document in stopwords_tweet:\n",
    "    for term in document:\n",
    "        if term not in term_dict:\n",
    "            term_dict[term] = \" \"\n",
    "            \n",
    "print(len(term_dict))\n",
    "print(\"------------------------\")\n",
    "\n",
    "for term in term_dict:\n",
    "    term_dict[term] = stemmed_wrapper(term)\n",
    "    print(term,\":\" ,term_dict[term])\n",
    "    \n",
    "print(term_dict)\n",
    "print(\"------------------------\")\n",
    "\n",
    "def get_stemmed_term(document):\n",
    "    return [term_dict[term] for term in document]\n",
    "\n",
    "stem_tweet = stopwords_tweet.apply(get_stemmed_term)\n",
    "\n",
    "print(stem_tweet)"
   ]
  },
  {
   "cell_type": "code",
   "execution_count": null,
   "id": "cec4bd5e",
   "metadata": {},
   "outputs": [],
   "source": [
    "normalizad_word = pd.read_excel(\"normalization.xlsx\")\n",
    "\n",
    "normalizad_word_dict = {}\n",
    "\n",
    "for index, row in normalizad_word.iterrows():\n",
    "    if row[0] not in normalizad_word_dict:\n",
    "        normalizad_word_dict[row[0]] = row[1] \n",
    "\n",
    "def normalized_term(document):\n",
    "    return [normalizad_word_dict[term] if term in normalizad_word_dict else term for term in document]\n",
    "\n",
    "normal_tweet = stem_tweet.apply(normalized_term).str.join(\" \")\n",
    "\n",
    "print(normal_tweet)"
   ]
  },
  {
   "cell_type": "code",
   "execution_count": null,
   "id": "a3b97613",
   "metadata": {},
   "outputs": [],
   "source": [
    "data_preprocess = normal_tweet\n",
    "\n",
    "data_preprocess"
   ]
  },
  {
   "cell_type": "code",
   "execution_count": null,
   "id": "4fe20634",
   "metadata": {},
   "outputs": [],
   "source": [
    "tt={\"Text\":data['tweet'], \"Cleaned_Text\":data_preprocess}\n",
    "\n",
    "df=pd.DataFrame(tt)\n",
    "df.to_excel(\"hasil_preprocess_21Juli.xlsx\")"
   ]
  },
  {
   "cell_type": "markdown",
   "id": "d4747b23",
   "metadata": {},
   "source": [
    "# Pelabelan Manual"
   ]
  },
  {
   "cell_type": "code",
   "execution_count": 3,
   "id": "66403f53",
   "metadata": {},
   "outputs": [],
   "source": [
    "import numpy as np\n",
    "import pandas as pd\n",
    "import re"
   ]
  },
  {
   "cell_type": "code",
   "execution_count": 4,
   "id": "b0a1d9c0",
   "metadata": {},
   "outputs": [
    {
     "data": {
      "text/html": [
       "<div>\n",
       "<style scoped>\n",
       "    .dataframe tbody tr th:only-of-type {\n",
       "        vertical-align: middle;\n",
       "    }\n",
       "\n",
       "    .dataframe tbody tr th {\n",
       "        vertical-align: top;\n",
       "    }\n",
       "\n",
       "    .dataframe thead th {\n",
       "        text-align: right;\n",
       "    }\n",
       "</style>\n",
       "<table border=\"1\" class=\"dataframe\">\n",
       "  <thead>\n",
       "    <tr style=\"text-align: right;\">\n",
       "      <th></th>\n",
       "      <th>No</th>\n",
       "      <th>Kelas</th>\n",
       "      <th>Label</th>\n",
       "      <th>Cleaned_Text</th>\n",
       "    </tr>\n",
       "  </thead>\n",
       "  <tbody>\n",
       "    <tr>\n",
       "      <th>0</th>\n",
       "      <td>1</td>\n",
       "      <td>Positif</td>\n",
       "      <td>1</td>\n",
       "      <td>kalau butuh bimbing ikut skill academy aja ata...</td>\n",
       "    </tr>\n",
       "    <tr>\n",
       "      <th>1</th>\n",
       "      <td>2</td>\n",
       "      <td>Positif</td>\n",
       "      <td>1</td>\n",
       "      <td>iseng ngecek prakerja punya ibu eh nyata lolos</td>\n",
       "    </tr>\n",
       "    <tr>\n",
       "      <th>2</th>\n",
       "      <td>3</td>\n",
       "      <td>Positif</td>\n",
       "      <td>1</td>\n",
       "      <td>alhamdulillah udah manfaat prakerja sampai sal...</td>\n",
       "    </tr>\n",
       "    <tr>\n",
       "      <th>3</th>\n",
       "      <td>4</td>\n",
       "      <td>Positif</td>\n",
       "      <td>1</td>\n",
       "      <td>ingat hari akhir beli latih serta kartu praker...</td>\n",
       "    </tr>\n",
       "    <tr>\n",
       "      <th>4</th>\n",
       "      <td>5</td>\n",
       "      <td>Positif</td>\n",
       "      <td>1</td>\n",
       "      <td>akhir april ini peserta kartu prakerja gelomba...</td>\n",
       "    </tr>\n",
       "    <tr>\n",
       "      <th>...</th>\n",
       "      <td>...</td>\n",
       "      <td>...</td>\n",
       "      <td>...</td>\n",
       "      <td>...</td>\n",
       "    </tr>\n",
       "    <tr>\n",
       "      <th>995</th>\n",
       "      <td>996</td>\n",
       "      <td>Negatif</td>\n",
       "      <td>0</td>\n",
       "      <td>nirmala hadeh ane saja belum pernah ngerasain ...</td>\n",
       "    </tr>\n",
       "    <tr>\n",
       "      <th>996</th>\n",
       "      <td>997</td>\n",
       "      <td>Negatif</td>\n",
       "      <td>0</td>\n",
       "      <td>konon dengar dengar sih bansos kali guna siste...</td>\n",
       "    </tr>\n",
       "    <tr>\n",
       "      <th>997</th>\n",
       "      <td>998</td>\n",
       "      <td>Negatif</td>\n",
       "      <td>0</td>\n",
       "      <td>punya tetangga unik militan benci jokowi vaksi...</td>\n",
       "    </tr>\n",
       "    <tr>\n",
       "      <th>998</th>\n",
       "      <td>999</td>\n",
       "      <td>Negatif</td>\n",
       "      <td>0</td>\n",
       "      <td>nirmala yang vaksin ancamanya gaji perusahaany...</td>\n",
       "    </tr>\n",
       "    <tr>\n",
       "      <th>999</th>\n",
       "      <td>1000</td>\n",
       "      <td>Negatif</td>\n",
       "      <td>0</td>\n",
       "      <td>nirmala memang vaksin blt kartu prakerja rsud ...</td>\n",
       "    </tr>\n",
       "  </tbody>\n",
       "</table>\n",
       "<p>1000 rows × 4 columns</p>\n",
       "</div>"
      ],
      "text/plain": [
       "       No    Kelas  Label                                       Cleaned_Text\n",
       "0       1  Positif      1  kalau butuh bimbing ikut skill academy aja ata...\n",
       "1       2  Positif      1     iseng ngecek prakerja punya ibu eh nyata lolos\n",
       "2       3  Positif      1  alhamdulillah udah manfaat prakerja sampai sal...\n",
       "3       4  Positif      1  ingat hari akhir beli latih serta kartu praker...\n",
       "4       5  Positif      1  akhir april ini peserta kartu prakerja gelomba...\n",
       "..    ...      ...    ...                                                ...\n",
       "995   996  Negatif      0  nirmala hadeh ane saja belum pernah ngerasain ...\n",
       "996   997  Negatif      0  konon dengar dengar sih bansos kali guna siste...\n",
       "997   998  Negatif      0  punya tetangga unik militan benci jokowi vaksi...\n",
       "998   999  Negatif      0  nirmala yang vaksin ancamanya gaji perusahaany...\n",
       "999  1000  Negatif      0  nirmala memang vaksin blt kartu prakerja rsud ...\n",
       "\n",
       "[1000 rows x 4 columns]"
      ]
     },
     "execution_count": 4,
     "metadata": {},
     "output_type": "execute_result"
    }
   ],
   "source": [
    "tweet_dataset = pd.read_excel(\"pelabelan_fix_ditambah.xlsx\")\n",
    "tweet_dataset = tweet_dataset[['No','Kelas','Label','Cleaned_Text']]\n",
    "\n",
    "tweet_dataset"
   ]
  },
  {
   "cell_type": "code",
   "execution_count": 5,
   "id": "5ea132c0",
   "metadata": {},
   "outputs": [
    {
     "data": {
      "text/plain": [
       "0    500\n",
       "1    500\n",
       "Name: Label, dtype: int64"
      ]
     },
     "execution_count": 5,
     "metadata": {},
     "output_type": "execute_result"
    }
   ],
   "source": [
    "tweet_dataset.Label.value_counts()"
   ]
  },
  {
   "cell_type": "markdown",
   "id": "ee517419",
   "metadata": {},
   "source": [
    "# Training Data"
   ]
  },
  {
   "cell_type": "code",
   "execution_count": 6,
   "id": "cab54258",
   "metadata": {},
   "outputs": [
    {
     "data": {
      "text/html": [
       "<div>\n",
       "<style scoped>\n",
       "    .dataframe tbody tr th:only-of-type {\n",
       "        vertical-align: middle;\n",
       "    }\n",
       "\n",
       "    .dataframe tbody tr th {\n",
       "        vertical-align: top;\n",
       "    }\n",
       "\n",
       "    .dataframe thead th {\n",
       "        text-align: right;\n",
       "    }\n",
       "</style>\n",
       "<table border=\"1\" class=\"dataframe\">\n",
       "  <thead>\n",
       "    <tr style=\"text-align: right;\">\n",
       "      <th></th>\n",
       "      <th>No</th>\n",
       "      <th>Kelas</th>\n",
       "      <th>Label</th>\n",
       "      <th>Cleaned_Text</th>\n",
       "    </tr>\n",
       "  </thead>\n",
       "  <tbody>\n",
       "    <tr>\n",
       "      <th>0</th>\n",
       "      <td>1</td>\n",
       "      <td>Positif</td>\n",
       "      <td>1</td>\n",
       "      <td>kalau butuh bimbing ikut skill academy aja ata...</td>\n",
       "    </tr>\n",
       "    <tr>\n",
       "      <th>1</th>\n",
       "      <td>2</td>\n",
       "      <td>Positif</td>\n",
       "      <td>1</td>\n",
       "      <td>iseng ngecek prakerja punya ibu eh nyata lolos</td>\n",
       "    </tr>\n",
       "    <tr>\n",
       "      <th>2</th>\n",
       "      <td>3</td>\n",
       "      <td>Positif</td>\n",
       "      <td>1</td>\n",
       "      <td>alhamdulillah udah manfaat prakerja sampai sal...</td>\n",
       "    </tr>\n",
       "    <tr>\n",
       "      <th>3</th>\n",
       "      <td>4</td>\n",
       "      <td>Positif</td>\n",
       "      <td>1</td>\n",
       "      <td>ingat hari akhir beli latih serta kartu praker...</td>\n",
       "    </tr>\n",
       "    <tr>\n",
       "      <th>4</th>\n",
       "      <td>5</td>\n",
       "      <td>Positif</td>\n",
       "      <td>1</td>\n",
       "      <td>akhir april ini peserta kartu prakerja gelomba...</td>\n",
       "    </tr>\n",
       "    <tr>\n",
       "      <th>...</th>\n",
       "      <td>...</td>\n",
       "      <td>...</td>\n",
       "      <td>...</td>\n",
       "      <td>...</td>\n",
       "    </tr>\n",
       "    <tr>\n",
       "      <th>995</th>\n",
       "      <td>996</td>\n",
       "      <td>Negatif</td>\n",
       "      <td>0</td>\n",
       "      <td>nirmala hadeh ane saja belum pernah ngerasain ...</td>\n",
       "    </tr>\n",
       "    <tr>\n",
       "      <th>996</th>\n",
       "      <td>997</td>\n",
       "      <td>Negatif</td>\n",
       "      <td>0</td>\n",
       "      <td>konon dengar dengar sih bansos kali guna siste...</td>\n",
       "    </tr>\n",
       "    <tr>\n",
       "      <th>997</th>\n",
       "      <td>998</td>\n",
       "      <td>Negatif</td>\n",
       "      <td>0</td>\n",
       "      <td>punya tetangga unik militan benci jokowi vaksi...</td>\n",
       "    </tr>\n",
       "    <tr>\n",
       "      <th>998</th>\n",
       "      <td>999</td>\n",
       "      <td>Negatif</td>\n",
       "      <td>0</td>\n",
       "      <td>nirmala yang vaksin ancamanya gaji perusahaany...</td>\n",
       "    </tr>\n",
       "    <tr>\n",
       "      <th>999</th>\n",
       "      <td>1000</td>\n",
       "      <td>Negatif</td>\n",
       "      <td>0</td>\n",
       "      <td>nirmala memang vaksin blt kartu prakerja rsud ...</td>\n",
       "    </tr>\n",
       "  </tbody>\n",
       "</table>\n",
       "<p>1000 rows × 4 columns</p>\n",
       "</div>"
      ],
      "text/plain": [
       "       No    Kelas  Label                                       Cleaned_Text\n",
       "0       1  Positif      1  kalau butuh bimbing ikut skill academy aja ata...\n",
       "1       2  Positif      1     iseng ngecek prakerja punya ibu eh nyata lolos\n",
       "2       3  Positif      1  alhamdulillah udah manfaat prakerja sampai sal...\n",
       "3       4  Positif      1  ingat hari akhir beli latih serta kartu praker...\n",
       "4       5  Positif      1  akhir april ini peserta kartu prakerja gelomba...\n",
       "..    ...      ...    ...                                                ...\n",
       "995   996  Negatif      0  nirmala hadeh ane saja belum pernah ngerasain ...\n",
       "996   997  Negatif      0  konon dengar dengar sih bansos kali guna siste...\n",
       "997   998  Negatif      0  punya tetangga unik militan benci jokowi vaksi...\n",
       "998   999  Negatif      0  nirmala yang vaksin ancamanya gaji perusahaany...\n",
       "999  1000  Negatif      0  nirmala memang vaksin blt kartu prakerja rsud ...\n",
       "\n",
       "[1000 rows x 4 columns]"
      ]
     },
     "execution_count": 6,
     "metadata": {},
     "output_type": "execute_result"
    }
   ],
   "source": [
    "tweet_dataset = pd.read_excel(\"pelabelan_fix_ditambah.xlsx\")\n",
    "\n",
    "tweet_dataset = tweet_dataset[['No','Kelas','Label','Cleaned_Text']].fillna(' ')\n",
    "\n",
    "tweet_dataset"
   ]
  },
  {
   "cell_type": "code",
   "execution_count": 7,
   "id": "4735212e",
   "metadata": {},
   "outputs": [],
   "source": [
    "def import_tweets():\n",
    "    tweet_dataset.columns = ['No', 'Kelas','Label','Cleaned_Text']\n",
    "    tweet_dataset.sentiment = tweet_dataset.sentiment.replace(4,1)\n",
    "    return tweet_dataset"
   ]
  },
  {
   "cell_type": "code",
   "execution_count": 8,
   "id": "ab5b392f",
   "metadata": {},
   "outputs": [],
   "source": [
    "def feature_extraction(data, method = \"tfidf\"):\n",
    "    from sklearn.feature_extraction.text import TfidfVectorizer\n",
    "    tfv=TfidfVectorizer(sublinear_tf=True) \n",
    "    features=tfv.fit_transform(data)\n",
    "    return features"
   ]
  },
  {
   "cell_type": "code",
   "execution_count": 9,
   "id": "c6737620",
   "metadata": {},
   "outputs": [],
   "source": [
    "def train_classifier(features, label, classifier = \"naive_bayes\"):\n",
    "    from sklearn.metrics import roc_auc_score\n",
    "    from sklearn.naive_bayes import MultinomialNB\n",
    "    model = MultinomialNB()\n",
    "    model.fit(features, label)\n",
    "    probability_to_be_positive = model.predict_proba(features)[:,1]\n",
    "    \n",
    "    print (\"auc (train data):\" , roc_auc_score(label, probability_to_be_positive))\n",
    "    print (\"top 10 scores: \", probability_to_be_positive[:10])"
   ]
  },
  {
   "cell_type": "code",
   "execution_count": 10,
   "id": "05b1c8c5",
   "metadata": {},
   "outputs": [],
   "source": [
    "data = np.array(tweet_dataset.Cleaned_Text)\n",
    "label = np.array(tweet_dataset.Label)"
   ]
  },
  {
   "cell_type": "code",
   "execution_count": 11,
   "id": "e60a22f7",
   "metadata": {},
   "outputs": [
    {
     "name": "stdout",
     "output_type": "stream",
     "text": [
      "  (0, 928)\t0.23537904336769414\n",
      "  (0, 2146)\t0.3360480736433859\n",
      "  (0, 1219)\t0.3109749081635186\n",
      "  (0, 2189)\t0.21429039416282666\n",
      "  (0, 1686)\t0.06058453697454565\n",
      "  (0, 1175)\t0.1868222093357075\n",
      "  (0, 409)\t0.17115100877875056\n",
      "  (0, 128)\t0.3109749081635186\n",
      "  (0, 31)\t0.25018979384075496\n",
      "  (0, 2)\t0.2739977597360192\n",
      "  (0, 1957)\t0.24227206913121327\n",
      "  (0, 802)\t0.21429039416282666\n",
      "  (0, 262)\t0.38492920501851746\n",
      "  (0, 331)\t0.29907092521588646\n",
      "  (0, 947)\t0.21112034788630074\n",
      "  (1, 1210)\t0.27181174468603886\n",
      "  (1, 1508)\t0.33608954620722586\n",
      "  (1, 584)\t0.35788363135794704\n",
      "  (1, 788)\t0.40966545780668334\n",
      "  (1, 1724)\t0.3089348663820094\n",
      "  (1, 1432)\t0.4560866895809244\n",
      "  (1, 841)\t0.4560866895809244\n",
      "  (1, 1686)\t0.07605802373713891\n",
      "  (2, 251)\t0.3763945080097555\n",
      "  (2, 1142)\t0.3040799347920501\n",
      "  :\t:\n",
      "  (998, 2031)\t0.41938089894321784\n",
      "  (998, 1642)\t0.41938089894321784\n",
      "  (998, 77)\t0.41938089894321784\n",
      "  (998, 1476)\t0.25644579188318406\n",
      "  (998, 2237)\t0.27495475460052354\n",
      "  (998, 649)\t0.338807590679245\n",
      "  (998, 277)\t0.24382970847102506\n",
      "  (998, 2089)\t0.2188629441470969\n",
      "  (998, 2309)\t0.1891730661477491\n",
      "  (998, 2226)\t0.27030256388220236\n",
      "  (999, 317)\t0.3417871987222166\n",
      "  (999, 1797)\t0.24961378578253884\n",
      "  (999, 1476)\t0.20899828545534546\n",
      "  (999, 2237)\t0.22408272667418583\n",
      "  (999, 2290)\t0.3225812231223522\n",
      "  (999, 2195)\t0.3089543665728278\n",
      "  (999, 420)\t0.2897483909729634\n",
      "  (999, 1621)\t0.28244661793192766\n",
      "  (999, 1930)\t0.24041704948796921\n",
      "  (999, 277)\t0.3364561550115301\n",
      "  (999, 1305)\t0.26103709320459867\n",
      "  (999, 2309)\t0.1541723347802876\n",
      "  (999, 311)\t0.30328821048593974\n",
      "  (999, 972)\t0.07713172218985814\n",
      "  (999, 1686)\t0.05379435726997222\n"
     ]
    }
   ],
   "source": [
    "features = feature_extraction(data, method = \"tfidf\") \n",
    "\n",
    "print(features)"
   ]
  },
  {
   "cell_type": "code",
   "execution_count": 12,
   "id": "51fe5d3e",
   "metadata": {},
   "outputs": [
    {
     "name": "stdout",
     "output_type": "stream",
     "text": [
      "auc (train data): 0.992938\n",
      "top 10 scores:  [0.84997974 0.54954297 0.78201502 0.81890835 0.92676238 0.79375348\n",
      " 0.88411982 0.54202429 0.78791271 0.58874025]\n",
      "None\n"
     ]
    }
   ],
   "source": [
    "train = train_classifier(features, label, \"naive_bayes\")\n",
    "\n",
    "print(train)\n",
    "\n",
    "#accuracy menggunakan k-fold cross validation\n",
    "#train disimpan dalam bentuk .pickle\n",
    "\n",
    "#cara menyimpan model classifier dalam file pickle/tanpa perlu dirunning"
   ]
  },
  {
   "cell_type": "markdown",
   "id": "f312033b",
   "metadata": {},
   "source": [
    "# Testing"
   ]
  },
  {
   "cell_type": "code",
   "execution_count": 13,
   "id": "28d56185",
   "metadata": {},
   "outputs": [],
   "source": [
    "import pandas as pd \n",
    "import numpy as np \n",
    "import pickle\n",
    "from sklearn.naive_bayes import MultinomialNB\n",
    "from sklearn.metrics import classification_report\n",
    "from sklearn.model_selection import train_test_split\n",
    "from sklearn.feature_extraction.text import CountVectorizer\n",
    "from sklearn.feature_extraction.text import TfidfTransformer\n",
    "from sklearn.pipeline import Pipeline"
   ]
  },
  {
   "cell_type": "code",
   "execution_count": 14,
   "id": "ac5d3936",
   "metadata": {},
   "outputs": [
    {
     "data": {
      "text/html": [
       "<div>\n",
       "<style scoped>\n",
       "    .dataframe tbody tr th:only-of-type {\n",
       "        vertical-align: middle;\n",
       "    }\n",
       "\n",
       "    .dataframe tbody tr th {\n",
       "        vertical-align: top;\n",
       "    }\n",
       "\n",
       "    .dataframe thead th {\n",
       "        text-align: right;\n",
       "    }\n",
       "</style>\n",
       "<table border=\"1\" class=\"dataframe\">\n",
       "  <thead>\n",
       "    <tr style=\"text-align: right;\">\n",
       "      <th></th>\n",
       "      <th>No</th>\n",
       "      <th>Kelas</th>\n",
       "      <th>Label</th>\n",
       "      <th>Cleaned_Text</th>\n",
       "    </tr>\n",
       "  </thead>\n",
       "  <tbody>\n",
       "    <tr>\n",
       "      <th>0</th>\n",
       "      <td>1</td>\n",
       "      <td>Positif</td>\n",
       "      <td>1</td>\n",
       "      <td>kalau butuh bimbing ikut skill academy aja ata...</td>\n",
       "    </tr>\n",
       "    <tr>\n",
       "      <th>1</th>\n",
       "      <td>2</td>\n",
       "      <td>Positif</td>\n",
       "      <td>1</td>\n",
       "      <td>iseng ngecek prakerja punya ibu eh nyata lolos</td>\n",
       "    </tr>\n",
       "    <tr>\n",
       "      <th>2</th>\n",
       "      <td>3</td>\n",
       "      <td>Positif</td>\n",
       "      <td>1</td>\n",
       "      <td>alhamdulillah udah manfaat prakerja sampai sal...</td>\n",
       "    </tr>\n",
       "    <tr>\n",
       "      <th>3</th>\n",
       "      <td>4</td>\n",
       "      <td>Positif</td>\n",
       "      <td>1</td>\n",
       "      <td>ingat hari akhir beli latih serta kartu praker...</td>\n",
       "    </tr>\n",
       "    <tr>\n",
       "      <th>4</th>\n",
       "      <td>5</td>\n",
       "      <td>Positif</td>\n",
       "      <td>1</td>\n",
       "      <td>akhir april ini peserta kartu prakerja gelomba...</td>\n",
       "    </tr>\n",
       "    <tr>\n",
       "      <th>...</th>\n",
       "      <td>...</td>\n",
       "      <td>...</td>\n",
       "      <td>...</td>\n",
       "      <td>...</td>\n",
       "    </tr>\n",
       "    <tr>\n",
       "      <th>995</th>\n",
       "      <td>996</td>\n",
       "      <td>Negatif</td>\n",
       "      <td>0</td>\n",
       "      <td>nirmala hadeh ane saja belum pernah ngerasain ...</td>\n",
       "    </tr>\n",
       "    <tr>\n",
       "      <th>996</th>\n",
       "      <td>997</td>\n",
       "      <td>Negatif</td>\n",
       "      <td>0</td>\n",
       "      <td>konon dengar dengar sih bansos kali guna siste...</td>\n",
       "    </tr>\n",
       "    <tr>\n",
       "      <th>997</th>\n",
       "      <td>998</td>\n",
       "      <td>Negatif</td>\n",
       "      <td>0</td>\n",
       "      <td>punya tetangga unik militan benci jokowi vaksi...</td>\n",
       "    </tr>\n",
       "    <tr>\n",
       "      <th>998</th>\n",
       "      <td>999</td>\n",
       "      <td>Negatif</td>\n",
       "      <td>0</td>\n",
       "      <td>nirmala yang vaksin ancamanya gaji perusahaany...</td>\n",
       "    </tr>\n",
       "    <tr>\n",
       "      <th>999</th>\n",
       "      <td>1000</td>\n",
       "      <td>Negatif</td>\n",
       "      <td>0</td>\n",
       "      <td>nirmala memang vaksin blt kartu prakerja rsud ...</td>\n",
       "    </tr>\n",
       "  </tbody>\n",
       "</table>\n",
       "<p>1000 rows × 4 columns</p>\n",
       "</div>"
      ],
      "text/plain": [
       "       No    Kelas  Label                                       Cleaned_Text\n",
       "0       1  Positif      1  kalau butuh bimbing ikut skill academy aja ata...\n",
       "1       2  Positif      1     iseng ngecek prakerja punya ibu eh nyata lolos\n",
       "2       3  Positif      1  alhamdulillah udah manfaat prakerja sampai sal...\n",
       "3       4  Positif      1  ingat hari akhir beli latih serta kartu praker...\n",
       "4       5  Positif      1  akhir april ini peserta kartu prakerja gelomba...\n",
       "..    ...      ...    ...                                                ...\n",
       "995   996  Negatif      0  nirmala hadeh ane saja belum pernah ngerasain ...\n",
       "996   997  Negatif      0  konon dengar dengar sih bansos kali guna siste...\n",
       "997   998  Negatif      0  punya tetangga unik militan benci jokowi vaksi...\n",
       "998   999  Negatif      0  nirmala yang vaksin ancamanya gaji perusahaany...\n",
       "999  1000  Negatif      0  nirmala memang vaksin blt kartu prakerja rsud ...\n",
       "\n",
       "[1000 rows x 4 columns]"
      ]
     },
     "execution_count": 14,
     "metadata": {},
     "output_type": "execute_result"
    }
   ],
   "source": [
    "data = pd.read_excel('pelabelan_fix_ditambah.xlsx')\n",
    "data = data[['No','Kelas','Label','Cleaned_Text']]\n",
    "\n",
    "data"
   ]
  },
  {
   "cell_type": "code",
   "execution_count": 15,
   "id": "78df6589",
   "metadata": {},
   "outputs": [],
   "source": [
    "def convert(polarity):\n",
    "    if polarity == 'Positif':\n",
    "        return 1\n",
    "    elif polarity == 'Negatif':\n",
    "        return 0"
   ]
  },
  {
   "cell_type": "code",
   "execution_count": 16,
   "id": "f1ccdba8",
   "metadata": {},
   "outputs": [],
   "source": [
    "data['polarity'] = data['Kelas'].apply(convert)"
   ]
  },
  {
   "cell_type": "code",
   "execution_count": 17,
   "id": "7ecc488c",
   "metadata": {},
   "outputs": [],
   "source": [
    "X = data['Cleaned_Text']\n",
    "y = data['polarity']\n",
    "\n",
    "bow_transformer = CountVectorizer().fit(data['Cleaned_Text'])\n",
    "messages_bow = bow_transformer.transform(data['Cleaned_Text'])\n",
    "\n",
    "tfidf_transformer = TfidfTransformer().fit(messages_bow)\n",
    "\n",
    "messages_tfidf = tfidf_transformer.transform(messages_bow)"
   ]
  },
  {
   "cell_type": "code",
   "execution_count": 18,
   "id": "1ce8ba97",
   "metadata": {},
   "outputs": [],
   "source": [
    "X_train,X_test,y_train,y_test = train_test_split(data['Cleaned_Text'],data['polarity'],test_size=0.1,random_state=100)\n",
    "\n",
    "pipeline = Pipeline([\n",
    "    ('bow',CountVectorizer()),\n",
    "    ('tfidf',TfidfTransformer()),\n",
    "    ('classifier',MultinomialNB())\n",
    "    ])\n",
    "\n",
    "X_train = np.asarray(X)\n",
    "pipeline = pipeline.fit(X_train, np.asarray(y))"
   ]
  },
  {
   "cell_type": "code",
   "execution_count": 19,
   "id": "31af0311",
   "metadata": {},
   "outputs": [],
   "source": [
    "file_data = 'latihan.pickle'\n",
    "f = open(file_data, 'wb')\n",
    "pickle.dump(pipeline, f)\n",
    "f.close()"
   ]
  },
  {
   "cell_type": "code",
   "execution_count": 20,
   "id": "8aeec38f",
   "metadata": {},
   "outputs": [
    {
     "name": "stdout",
     "output_type": "stream",
     "text": [
      "Pipeline(steps=[('bow', CountVectorizer()), ('tfidf', TfidfTransformer()),\n",
      "                ('classifier', MultinomialNB())])\n"
     ]
    }
   ],
   "source": [
    "file_dataset = 'latihan.pickle'\n",
    "f = open(file_dataset, 'rb')\n",
    "training = pickle.load(f)\n",
    "f.close()\n",
    "print(training)"
   ]
  },
  {
   "cell_type": "code",
   "execution_count": 21,
   "id": "b3747ba4",
   "metadata": {},
   "outputs": [
    {
     "data": {
      "text/plain": [
       "0       anibidadari jauh dampak positif kartu prakerja...\n",
       "1       schfess hese menang prakerja bantu umkm da nu ...\n",
       "2       juli sebentar siapsiap buka kartu prakerja gel...\n",
       "3       anibidadari jauh dampak positif kartu prakerja...\n",
       "4       ugmbergerak jokowi ugmyogyakarta gjynmmnggllag...\n",
       "                              ...                        \n",
       "6653    konon dengar dengar sih bansos kali guna siste...\n",
       "6654    atamimipasaribu nirmala chusnulch bijak yang m...\n",
       "6655    punya tetangga unik militan benci jokowi vaksi...\n",
       "6656    nirmala yang vaksin ancamanya gaji perusahaany...\n",
       "6657    nirmala memang vaksin blt kartu prakerja rsud ...\n",
       "Name: Cleaned_Text, Length: 6658, dtype: object"
      ]
     },
     "execution_count": 21,
     "metadata": {},
     "output_type": "execute_result"
    }
   ],
   "source": [
    "data_tweet = pd.read_excel('pelabelan_fix_2.xlsx')\n",
    "\n",
    "data_tweet = data_tweet['Cleaned_Text']\n",
    "\n",
    "data_tweet = data_tweet.fillna(' ')\n",
    "\n",
    "data_tweet"
   ]
  },
  {
   "cell_type": "code",
   "execution_count": 22,
   "id": "a5500165",
   "metadata": {},
   "outputs": [],
   "source": [
    "prediction = training.predict(np.asarray(data_tweet))"
   ]
  },
  {
   "cell_type": "code",
   "execution_count": 23,
   "id": "fc4db39c",
   "metadata": {},
   "outputs": [
    {
     "data": {
      "text/plain": [
       "array([1, 1, 1, ..., 0, 0, 0], dtype=int64)"
      ]
     },
     "execution_count": 23,
     "metadata": {},
     "output_type": "execute_result"
    }
   ],
   "source": [
    "prediction"
   ]
  },
  {
   "cell_type": "code",
   "execution_count": 24,
   "id": "fb00105e",
   "metadata": {},
   "outputs": [],
   "source": [
    "result = []\n",
    "\n",
    "for i in range(len(prediction)):\n",
    "    if(prediction[i]==1):\n",
    "        sentiment = 'Positif'\n",
    "    elif(prediction[i]==0):\n",
    "        sentiment = 'Negatif'\n",
    "    \n",
    "    result.append({'Cleaned_Text':data_tweet[i],'Label':prediction[i],'Kelas':sentiment})"
   ]
  },
  {
   "cell_type": "code",
   "execution_count": 40,
   "id": "511da569",
   "metadata": {},
   "outputs": [
    {
     "data": {
      "text/html": [
       "<div>\n",
       "<style scoped>\n",
       "    .dataframe tbody tr th:only-of-type {\n",
       "        vertical-align: middle;\n",
       "    }\n",
       "\n",
       "    .dataframe tbody tr th {\n",
       "        vertical-align: top;\n",
       "    }\n",
       "\n",
       "    .dataframe thead th {\n",
       "        text-align: right;\n",
       "    }\n",
       "</style>\n",
       "<table border=\"1\" class=\"dataframe\">\n",
       "  <thead>\n",
       "    <tr style=\"text-align: right;\">\n",
       "      <th></th>\n",
       "      <th>Cleaned_Text</th>\n",
       "      <th>Label</th>\n",
       "      <th>Kelas</th>\n",
       "    </tr>\n",
       "  </thead>\n",
       "  <tbody>\n",
       "    <tr>\n",
       "      <th>0</th>\n",
       "      <td>anibidadari jauh dampak positif kartu prakerja...</td>\n",
       "      <td>1</td>\n",
       "      <td>Positif</td>\n",
       "    </tr>\n",
       "    <tr>\n",
       "      <th>1</th>\n",
       "      <td>schfess hese menang prakerja bantu umkm da nu ...</td>\n",
       "      <td>1</td>\n",
       "      <td>Positif</td>\n",
       "    </tr>\n",
       "    <tr>\n",
       "      <th>2</th>\n",
       "      <td>juli sebentar siapsiap buka kartu prakerja gel...</td>\n",
       "      <td>1</td>\n",
       "      <td>Positif</td>\n",
       "    </tr>\n",
       "    <tr>\n",
       "      <th>3</th>\n",
       "      <td>anibidadari jauh dampak positif kartu prakerja...</td>\n",
       "      <td>1</td>\n",
       "      <td>Positif</td>\n",
       "    </tr>\n",
       "    <tr>\n",
       "      <th>4</th>\n",
       "      <td>ugmbergerak jokowi ugmyogyakarta gjynmmnggllag...</td>\n",
       "      <td>0</td>\n",
       "      <td>Negatif</td>\n",
       "    </tr>\n",
       "    <tr>\n",
       "      <th>...</th>\n",
       "      <td>...</td>\n",
       "      <td>...</td>\n",
       "      <td>...</td>\n",
       "    </tr>\n",
       "    <tr>\n",
       "      <th>6653</th>\n",
       "      <td>konon dengar dengar sih bansos kali guna siste...</td>\n",
       "      <td>0</td>\n",
       "      <td>Negatif</td>\n",
       "    </tr>\n",
       "    <tr>\n",
       "      <th>6654</th>\n",
       "      <td>atamimipasaribu nirmala chusnulch bijak yang m...</td>\n",
       "      <td>0</td>\n",
       "      <td>Negatif</td>\n",
       "    </tr>\n",
       "    <tr>\n",
       "      <th>6655</th>\n",
       "      <td>punya tetangga unik militan benci jokowi vaksi...</td>\n",
       "      <td>0</td>\n",
       "      <td>Negatif</td>\n",
       "    </tr>\n",
       "    <tr>\n",
       "      <th>6656</th>\n",
       "      <td>nirmala yang vaksin ancamanya gaji perusahaany...</td>\n",
       "      <td>0</td>\n",
       "      <td>Negatif</td>\n",
       "    </tr>\n",
       "    <tr>\n",
       "      <th>6657</th>\n",
       "      <td>nirmala memang vaksin blt kartu prakerja rsud ...</td>\n",
       "      <td>0</td>\n",
       "      <td>Negatif</td>\n",
       "    </tr>\n",
       "  </tbody>\n",
       "</table>\n",
       "<p>6658 rows × 3 columns</p>\n",
       "</div>"
      ],
      "text/plain": [
       "                                           Cleaned_Text  Label    Kelas\n",
       "0     anibidadari jauh dampak positif kartu prakerja...      1  Positif\n",
       "1     schfess hese menang prakerja bantu umkm da nu ...      1  Positif\n",
       "2     juli sebentar siapsiap buka kartu prakerja gel...      1  Positif\n",
       "3     anibidadari jauh dampak positif kartu prakerja...      1  Positif\n",
       "4     ugmbergerak jokowi ugmyogyakarta gjynmmnggllag...      0  Negatif\n",
       "...                                                 ...    ...      ...\n",
       "6653  konon dengar dengar sih bansos kali guna siste...      0  Negatif\n",
       "6654  atamimipasaribu nirmala chusnulch bijak yang m...      0  Negatif\n",
       "6655  punya tetangga unik militan benci jokowi vaksi...      0  Negatif\n",
       "6656  nirmala yang vaksin ancamanya gaji perusahaany...      0  Negatif\n",
       "6657  nirmala memang vaksin blt kartu prakerja rsud ...      0  Negatif\n",
       "\n",
       "[6658 rows x 3 columns]"
      ]
     },
     "execution_count": 40,
     "metadata": {},
     "output_type": "execute_result"
    }
   ],
   "source": [
    "data = pd.DataFrame(result)\n",
    "\n",
    "data"
   ]
  },
  {
   "cell_type": "code",
   "execution_count": 41,
   "id": "d530a280",
   "metadata": {},
   "outputs": [
    {
     "data": {
      "text/plain": [
       "0       anibidadari jauh dampak positif kartu prakerja...\n",
       "1       schfess hese menang prakerja bantu umkm da nu ...\n",
       "2       juli sebentar siapsiap buka kartu prakerja gel...\n",
       "3       anibidadari jauh dampak positif kartu prakerja...\n",
       "5       jangan siasiakan serta kartu prakerja bantu rp...\n",
       "                              ...                        \n",
       "6621    kartu prakerja bantu biaya latih masyarakat in...\n",
       "6622    program prakerja salur bantu upa uang prakerja...\n",
       "6634    nahh kaca mekanisme distribusi kartu prakerja ...\n",
       "6635    kemenkeuri terima kartu prakerja amp subsidi u...\n",
       "6639    nnuang rp triliun keluar bantu via kartu prake...\n",
       "Name: Cleaned_Text, Length: 4474, dtype: object"
      ]
     },
     "execution_count": 41,
     "metadata": {},
     "output_type": "execute_result"
    }
   ],
   "source": [
    "positif = data.loc[data['Kelas'] == 'Positif' , 'Cleaned_Text']\n",
    "\n",
    "positif"
   ]
  },
  {
   "cell_type": "code",
   "execution_count": 27,
   "id": "becb9b30",
   "metadata": {},
   "outputs": [
    {
     "name": "stdout",
     "output_type": "stream",
     "text": [
      "[('maspiyuaja agustinus edy kristianto wuidih perintah tambah anggar program kartu prakerja jadi rp triliun pesta pora si', 341), ('msaid didu anggar covid naik rp trilyun kartu prakerja malah naik jadi rp trilyun pmn bumn mau tambah rp tr', 180), ('hasbil lbs juta org terima kartu prakerja serta paket manfaat nila rp juta arti perintah u ', 100), ('geloraco sri mulyani tambah anggar kartu prakerja jadi rp triliunn', 62), ('ricapepedas jangkau luas buat efektivitas manfaat kartu prakerja nikmat seluruh lapis masyarakat sa ', 58), ('jangkau luas buat efektivitas manfaat kartu prakerja nikmat seluruh lapis masyara ', 44), ('chusnulch tol laut jokowi maksimal distribusi siap pon xx papuannsama dgn kebijakn yang kartu prakerja d', 39), ('oposisicerdas sri mulyani suntik rp triliun program kartu prakerja fadli zon program buangbuang uangn', 33), ('kretagama ri harap tambah anggar program kartu prakerja kurang ekses negatif laku ppkm da', 33), ('fadlizon sri mulyani suntik program kartu prakerja rp triliun fadli zon buangbuang uang baik bayar insentif nakes https', 32)]\n"
     ]
    }
   ],
   "source": [
    "from nltk import FreqDist\n",
    "\n",
    "fdist1 = FreqDist(positif)\n",
    "\n",
    "print(fdist1.most_common(10))"
   ]
  },
  {
   "cell_type": "code",
   "execution_count": 28,
   "id": "8f6cbd82",
   "metadata": {},
   "outputs": [
    {
     "data": {
      "text/plain": [
       "4       ugmbergerak jokowi ugmyogyakarta gjynmmnggllag...\n",
       "6                     wkwk saya mau dftr prakerja aja kgk\n",
       "10      robonggo pasuro sedang ecek hasil verifikasi k...\n",
       "11      dutijulian helenmnrng ka ngakak sama tetap war...\n",
       "13      mau tanya siapa tau aja lewat tl prakerja udh ...\n",
       "                              ...                        \n",
       "6653    konon dengar dengar sih bansos kali guna siste...\n",
       "6654    atamimipasaribu nirmala chusnulch bijak yang m...\n",
       "6655    punya tetangga unik militan benci jokowi vaksi...\n",
       "6656    nirmala yang vaksin ancamanya gaji perusahaany...\n",
       "6657    nirmala memang vaksin blt kartu prakerja rsud ...\n",
       "Name: Cleaned_Text, Length: 2184, dtype: object"
      ]
     },
     "execution_count": 28,
     "metadata": {},
     "output_type": "execute_result"
    }
   ],
   "source": [
    "negatif = data.loc[data['Kelas'] == 'Negatif' , 'Cleaned_Text']\n",
    "\n",
    "negatif"
   ]
  },
  {
   "cell_type": "code",
   "execution_count": 29,
   "id": "faf1afff",
   "metadata": {},
   "outputs": [
    {
     "name": "stdout",
     "output_type": "stream",
     "text": [
      "[('fadlizon program kartu prakerja tak jelas buang uang untuk latih padahal gratis baik uang kartu prakerja langsung d', 418), ('chusnulch orang yang tahun lalu kritik keras program kartu prakerja bahkan yang minta batalkannlihat hasil skrng yang dinikmati ', 74), ('fadlizon program kartu prakerja suntik t fadli zon buangbuang uang nlebih baik anggar nakesn', 64), ('fadlizon goriau kritik program kartu prakerja fadli zon tak jelas cuma buangbuang uang', 44), ('msaid didu kartu prakerja naik jadi rp trilyun', 40), ('chusnulch sblmnya soal bus listriknlalu soal konflik agrariankawal kartu prakerjanbagikan ivermectin bbrp daerahnskrng terkai', 29), ('msaid didu gara bayar cicil utang bunga pokok sktr rp trilyun per bulan paksa tdk bayar utang rum', 28), ('msaid didu dana kartu prakerja beri rp trilyun', 28), ('rizkidwiirfan kompastv bukan cuma daftar vaksin doang data tidak pake buat daftar prakerja padahal perna', 19), ('fadlizon komentar fadli zon kait anggar kartu prakerjan', 14)]\n"
     ]
    }
   ],
   "source": [
    "from nltk import FreqDist\n",
    "\n",
    "fdist2 = FreqDist(negatif)\n",
    "\n",
    "print(fdist2.most_common(10))"
   ]
  },
  {
   "cell_type": "code",
   "execution_count": 30,
   "id": "54520dbe",
   "metadata": {},
   "outputs": [
    {
     "data": {
      "text/html": [
       "<div>\n",
       "<style scoped>\n",
       "    .dataframe tbody tr th:only-of-type {\n",
       "        vertical-align: middle;\n",
       "    }\n",
       "\n",
       "    .dataframe tbody tr th {\n",
       "        vertical-align: top;\n",
       "    }\n",
       "\n",
       "    .dataframe thead th {\n",
       "        text-align: right;\n",
       "    }\n",
       "</style>\n",
       "<table border=\"1\" class=\"dataframe\">\n",
       "  <thead>\n",
       "    <tr style=\"text-align: right;\">\n",
       "      <th></th>\n",
       "      <th>Cleaned_Text</th>\n",
       "      <th>Label</th>\n",
       "    </tr>\n",
       "    <tr>\n",
       "      <th>Kelas</th>\n",
       "      <th></th>\n",
       "      <th></th>\n",
       "    </tr>\n",
       "  </thead>\n",
       "  <tbody>\n",
       "    <tr>\n",
       "      <th>Negatif</th>\n",
       "      <td>2184</td>\n",
       "      <td>2184</td>\n",
       "    </tr>\n",
       "    <tr>\n",
       "      <th>Positif</th>\n",
       "      <td>4474</td>\n",
       "      <td>4474</td>\n",
       "    </tr>\n",
       "  </tbody>\n",
       "</table>\n",
       "</div>"
      ],
      "text/plain": [
       "         Cleaned_Text  Label\n",
       "Kelas                       \n",
       "Negatif          2184   2184\n",
       "Positif          4474   4474"
      ]
     },
     "execution_count": 30,
     "metadata": {},
     "output_type": "execute_result"
    }
   ],
   "source": [
    "data.groupby(by='Kelas').agg('count')"
   ]
  },
  {
   "cell_type": "code",
   "execution_count": 31,
   "id": "e53f6788",
   "metadata": {},
   "outputs": [
    {
     "data": {
      "image/png": "[encoded data removed]",
      "text/plain": [
       "<Figure size 576x360 with 1 Axes>"
      ]
     },
     "metadata": {
      "needs_background": "light"
     },
     "output_type": "display_data"
    }
   ],
   "source": [
    "import matplotlib.pyplot as plt\n",
    "import seaborn as sns\n",
    "\n",
    "plt.rcParams[\"figure.figsize\"] = [8,5]\n",
    "plt.rcParams[\"figure.autolayout\"] = True\n",
    "x = ['Positif', 'Negatif',]\n",
    "y = [4474,2184]\n",
    "percentage = [4474,2184]\n",
    "ax = sns.barplot(x=x, y=y)\n",
    "patches = ax.patches\n",
    "for i in range(len(patches)):\n",
    "    x = patches[i].get_x() + patches[i].get_width()/2\n",
    "    y = patches[i].get_height()+.5\n",
    "    ax.annotate('{:}'.format(percentage[i]), (x, y), ha='center')\n",
    "    \n",
    "plt.title('Klasifikasi Sentimen \\n')\n",
    "plt.xlabel('Jenis Klasifikasi')\n",
    "plt.ylabel('Jumlah')    \n",
    "plt.show()"
   ]
  },
  {
   "cell_type": "markdown",
   "id": "4dd09b58",
   "metadata": {},
   "source": [
    "# Klasifikasi"
   ]
  },
  {
   "cell_type": "code",
   "execution_count": 32,
   "id": "d22c808a",
   "metadata": {},
   "outputs": [
    {
     "data": {
      "text/html": [
       "<div>\n",
       "<style scoped>\n",
       "    .dataframe tbody tr th:only-of-type {\n",
       "        vertical-align: middle;\n",
       "    }\n",
       "\n",
       "    .dataframe tbody tr th {\n",
       "        vertical-align: top;\n",
       "    }\n",
       "\n",
       "    .dataframe thead th {\n",
       "        text-align: right;\n",
       "    }\n",
       "</style>\n",
       "<table border=\"1\" class=\"dataframe\">\n",
       "  <thead>\n",
       "    <tr style=\"text-align: right;\">\n",
       "      <th></th>\n",
       "      <th>Cleaned_Text</th>\n",
       "      <th>Label</th>\n",
       "      <th>Kelas</th>\n",
       "    </tr>\n",
       "  </thead>\n",
       "  <tbody>\n",
       "    <tr>\n",
       "      <th>0</th>\n",
       "      <td>anibidadari jauh dampak positif kartu prakerja...</td>\n",
       "      <td>1</td>\n",
       "      <td>Positif</td>\n",
       "    </tr>\n",
       "    <tr>\n",
       "      <th>1</th>\n",
       "      <td>schfess hese menang prakerja bantu umkm da nu ...</td>\n",
       "      <td>1</td>\n",
       "      <td>Positif</td>\n",
       "    </tr>\n",
       "    <tr>\n",
       "      <th>2</th>\n",
       "      <td>juli sebentar siapsiap buka kartu prakerja gel...</td>\n",
       "      <td>1</td>\n",
       "      <td>Positif</td>\n",
       "    </tr>\n",
       "    <tr>\n",
       "      <th>3</th>\n",
       "      <td>anibidadari jauh dampak positif kartu prakerja...</td>\n",
       "      <td>1</td>\n",
       "      <td>Positif</td>\n",
       "    </tr>\n",
       "    <tr>\n",
       "      <th>4</th>\n",
       "      <td>ugmbergerak jokowi ugmyogyakarta gjynmmnggllag...</td>\n",
       "      <td>0</td>\n",
       "      <td>Negatif</td>\n",
       "    </tr>\n",
       "    <tr>\n",
       "      <th>...</th>\n",
       "      <td>...</td>\n",
       "      <td>...</td>\n",
       "      <td>...</td>\n",
       "    </tr>\n",
       "    <tr>\n",
       "      <th>6653</th>\n",
       "      <td>konon dengar dengar sih bansos kali guna siste...</td>\n",
       "      <td>0</td>\n",
       "      <td>Negatif</td>\n",
       "    </tr>\n",
       "    <tr>\n",
       "      <th>6654</th>\n",
       "      <td>atamimipasaribu nirmala chusnulch bijak yang m...</td>\n",
       "      <td>0</td>\n",
       "      <td>Negatif</td>\n",
       "    </tr>\n",
       "    <tr>\n",
       "      <th>6655</th>\n",
       "      <td>punya tetangga unik militan benci jokowi vaksi...</td>\n",
       "      <td>0</td>\n",
       "      <td>Negatif</td>\n",
       "    </tr>\n",
       "    <tr>\n",
       "      <th>6656</th>\n",
       "      <td>nirmala yang vaksin ancamanya gaji perusahaany...</td>\n",
       "      <td>0</td>\n",
       "      <td>Negatif</td>\n",
       "    </tr>\n",
       "    <tr>\n",
       "      <th>6657</th>\n",
       "      <td>nirmala memang vaksin blt kartu prakerja rsud ...</td>\n",
       "      <td>0</td>\n",
       "      <td>Negatif</td>\n",
       "    </tr>\n",
       "  </tbody>\n",
       "</table>\n",
       "<p>6658 rows × 3 columns</p>\n",
       "</div>"
      ],
      "text/plain": [
       "                                           Cleaned_Text  Label    Kelas\n",
       "0     anibidadari jauh dampak positif kartu prakerja...      1  Positif\n",
       "1     schfess hese menang prakerja bantu umkm da nu ...      1  Positif\n",
       "2     juli sebentar siapsiap buka kartu prakerja gel...      1  Positif\n",
       "3     anibidadari jauh dampak positif kartu prakerja...      1  Positif\n",
       "4     ugmbergerak jokowi ugmyogyakarta gjynmmnggllag...      0  Negatif\n",
       "...                                                 ...    ...      ...\n",
       "6653  konon dengar dengar sih bansos kali guna siste...      0  Negatif\n",
       "6654  atamimipasaribu nirmala chusnulch bijak yang m...      0  Negatif\n",
       "6655  punya tetangga unik militan benci jokowi vaksi...      0  Negatif\n",
       "6656  nirmala yang vaksin ancamanya gaji perusahaany...      0  Negatif\n",
       "6657  nirmala memang vaksin blt kartu prakerja rsud ...      0  Negatif\n",
       "\n",
       "[6658 rows x 3 columns]"
      ]
     },
     "execution_count": 32,
     "metadata": {},
     "output_type": "execute_result"
    }
   ],
   "source": [
    "import pandas as pd \n",
    "import numpy as np \n",
    "import re\n",
    "\n",
    "#dataset = pd.read_excel(\"pelabelan_fix_ditambah.xlsx\")\n",
    "#dataset = dataset[['No','Kelas','Label','Cleaned_Text']]\n",
    "dataset = data\n",
    "\n",
    "dataset"
   ]
  },
  {
   "cell_type": "code",
   "execution_count": 33,
   "id": "9d6a3a55",
   "metadata": {},
   "outputs": [
    {
     "name": "stdout",
     "output_type": "stream",
     "text": [
      "0       1\n",
      "1       1\n",
      "2       1\n",
      "3       1\n",
      "4       0\n",
      "       ..\n",
      "6653    0\n",
      "6654    0\n",
      "6655    0\n",
      "6656    0\n",
      "6657    0\n",
      "Name: sentiment, Length: 6658, dtype: int64\n"
     ]
    }
   ],
   "source": [
    "clean_msg = pd.DataFrame(dataset,columns=['Cleaned_Text'])\n",
    "clean_msg.head()\n",
    "\n",
    "X = clean_msg.Cleaned_Text\n",
    "\n",
    "dataset['sentiment'] = dataset['Kelas'].apply(lambda x: 0 if x=='Negatif' else (1 if x== 'Positif' else 2))\n",
    "Y = dataset.sentiment\n",
    "print(Y)"
   ]
  },
  {
   "cell_type": "code",
   "execution_count": 34,
   "id": "feb61211",
   "metadata": {},
   "outputs": [],
   "source": [
    "from sklearn.model_selection import train_test_split\n",
    "X_train,X_test,Y_train,Y_test = train_test_split(X,Y,test_size=0.2,random_state=42)"
   ]
  },
  {
   "cell_type": "code",
   "execution_count": 35,
   "id": "5000354e",
   "metadata": {},
   "outputs": [],
   "source": [
    "from sklearn.feature_extraction.text import TfidfVectorizer\n",
    "vect = TfidfVectorizer(analyzer = \"word\",min_df=0.0004,max_df=0.115, ngram_range=(1,3))\n",
    "vect.fit(X_train) \n",
    "X_train_dtm = vect.transform(X_train)\n",
    "X_test_dtm = vect.transform(X_test)"
   ]
  },
  {
   "cell_type": "code",
   "execution_count": 36,
   "id": "167d94b6",
   "metadata": {},
   "outputs": [],
   "source": [
    "from sklearn.naive_bayes import MultinomialNB\n",
    "from sklearn.metrics import accuracy_score"
   ]
  },
  {
   "cell_type": "code",
   "execution_count": 37,
   "id": "8331a47e",
   "metadata": {},
   "outputs": [
    {
     "name": "stdout",
     "output_type": "stream",
     "text": [
      "0.9617117117117117\n"
     ]
    }
   ],
   "source": [
    "nbmodel = MultinomialNB(alpha=0.1)\n",
    "nbmodel = nbmodel.fit(X_train_dtm,Y_train)\n",
    "Y_pred = nbmodel.predict(X_test_dtm)\n",
    "print(accuracy_score(Y_test,Y_pred))"
   ]
  },
  {
   "cell_type": "code",
   "execution_count": 38,
   "id": "b08528f3",
   "metadata": {},
   "outputs": [
    {
     "name": "stdout",
     "output_type": "stream",
     "text": [
      "[[403  16]\n",
      " [ 35 878]]\n"
     ]
    }
   ],
   "source": [
    "from sklearn.metrics import confusion_matrix \n",
    "cm = confusion_matrix(Y_test, Y_pred) \n",
    "print(cm)"
   ]
  },
  {
   "cell_type": "code",
   "execution_count": 39,
   "id": "919bbecf",
   "metadata": {},
   "outputs": [
    {
     "name": "stdout",
     "output_type": "stream",
     "text": [
      "              precision    recall  f1-score   support\n",
      "\n",
      "           0       0.92      0.96      0.94       419\n",
      "           1       0.98      0.96      0.97       913\n",
      "\n",
      "    accuracy                           0.96      1332\n",
      "   macro avg       0.95      0.96      0.96      1332\n",
      "weighted avg       0.96      0.96      0.96      1332\n",
      "\n"
     ]
    }
   ],
   "source": [
    "from sklearn.metrics import classification_report\n",
    "report = classification_report(Y_test, Y_pred)\n",
    "print(report)"
   ]
  },
  {
   "cell_type": "code",
   "execution_count": null,
   "id": "3ae8f4a9",
   "metadata": {},
   "outputs": [],
   "source": [
    "from sklearn.model_selection import cross_val_score\n",
    "accuracies = cross_val_score(estimator = nbmodel, X = X_train_dtm, y = Y_train, cv = 10) \n",
    "print('Rata-rata akurasi yaitu: ', accuracies.mean())"
   ]
  },
  {
   "cell_type": "code",
   "execution_count": null,
   "id": "38e49101",
   "metadata": {},
   "outputs": [],
   "source": [
    "accuracies"
   ]
  },
  {
   "cell_type": "code",
   "execution_count": null,
   "id": "20dda384",
   "metadata": {},
   "outputs": [],
   "source": [
    "accuracy = accuracies*100\n",
    "\n",
    "print('Accuracy yang dicari (dalam %) yaitu: ', accuracy)"
   ]
  },
  {
   "cell_type": "code",
   "execution_count": null,
   "id": "bda12c3a",
   "metadata": {},
   "outputs": [],
   "source": [
    "import matplotlib.pyplot as plt\n",
    "import seaborn as sns\n",
    "\n",
    "plt.rcParams[\"figure.figsize\"] = [9,6]\n",
    "plt.rcParams[\"figure.autolayout\"] = True\n",
    "\n",
    "x = [1,2,3,4,5,6,7,8,9,10]\n",
    "y = accuracy\n",
    "\n",
    "percentage = accuracy\n",
    "ax = sns.barplot(x=x, y=y)\n",
    "patches = ax.patches\n",
    "\n",
    "for i in range(len(patches)):\n",
    "    x = patches[i].get_x() + patches[i].get_width()/2\n",
    "    y = patches[i].get_height()+.5\n",
    "    ax.annotate('{:.1f}%'.format(percentage[i]), (x, y), ha='center')\n",
    "    \n",
    "plt.title('K-Fold Cross Validation Naive Bayes Classification \\n')\n",
    "plt.xlabel('Urutan Fold')\n",
    "plt.ylabel('Accuracy')\n",
    "plt.show()"
   ]
  },
  {
   "cell_type": "code",
   "execution_count": null,
   "id": "30b67620",
   "metadata": {},
   "outputs": [],
   "source": []
  }
 ],
 "metadata": {
  "kernelspec": {
   "display_name": "Python 3",
   "language": "python",
   "name": "python3"
  },
  "language_info": {
   "codemirror_mode": {
    "name": "ipython",
    "version": 3
   },
   "file_extension": ".py",
   "mimetype": "text/x-python",
   "name": "python",
   "nbconvert_exporter": "python",
   "pygments_lexer": "ipython3",
   "version": "3.7.8"
  }
 },
 "nbformat": 4,
 "nbformat_minor": 5
}
